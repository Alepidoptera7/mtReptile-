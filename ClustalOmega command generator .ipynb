{
 "cells": [
  {
   "cell_type": "code",
   "execution_count": 17,
   "id": "63cb1b56",
   "metadata": {},
   "outputs": [
    {
     "name": "stdout",
     "output_type": "stream",
     "text": [
      "Requirement already satisfied: Biopython in c:\\programdata\\anaconda3\\lib\\site-packages (1.81)\n",
      "Requirement already satisfied: numpy in c:\\programdata\\anaconda3\\lib\\site-packages (from Biopython) (1.20.3)\n"
     ]
    }
   ],
   "source": [
    "!pip install Biopython"
   ]
  },
  {
   "cell_type": "code",
   "execution_count": 18,
   "id": "f7b21ea2",
   "metadata": {},
   "outputs": [],
   "source": [
    "import Bio\n",
    "from Bio import AlignIO\n",
    "from Bio import SeqIO\n",
    "from Bio.Align.Applications import ClustalOmegaCommandline"
   ]
  },
  {
   "cell_type": "code",
   "execution_count": 21,
   "id": "187010d2",
   "metadata": {},
   "outputs": [
    {
     "name": "stdout",
     "output_type": "stream",
     "text": [
      "./\"C:/Users/Quin The Conquoror!/Desktop/clustal-omega-1.2.2-win64/clustalo\" -i \"SRR8351024.9.1 REX389.x1.fa\" -o \"SRR8351024.9.1 REX389.x1.fa_aligned\" --outfmt fasta -v\n"
     ]
    },
    {
     "name": "stderr",
     "output_type": "stream",
     "text": [
      "'full_cline' is not recognized as an internal or external command,\n",
      "operable program or batch file.\n"
     ]
    }
   ],
   "source": [
    "clustalOmega_exe = r\"C:/Users/Quin The Conquoror!/Desktop/clustal-omega-1.2.2-win64/clustalo\"\n",
    "infile = \"SRR8351024.9.1 REX389.x1.fa\"\n",
    "outfile = infile + \"_aligned\"\n",
    "cline = ClustalOmegaCommandline(clustalOmega_exe, infile=infile, verbose=True, outfile=outfile, outfmt=\"fasta\")\n",
    "full_cline = \"./\"+str(cline)\n",
    "\n",
    "print(full_cline)"
   ]
  }
 ],
 "metadata": {
  "kernelspec": {
   "display_name": "Python 3 (ipykernel)",
   "language": "python",
   "name": "python3"
  },
  "language_info": {
   "codemirror_mode": {
    "name": "ipython",
    "version": 3
   },
   "file_extension": ".py",
   "mimetype": "text/x-python",
   "name": "python",
   "nbconvert_exporter": "python",
   "pygments_lexer": "ipython3",
   "version": "3.9.7"
  }
 },
 "nbformat": 4,
 "nbformat_minor": 5
}
